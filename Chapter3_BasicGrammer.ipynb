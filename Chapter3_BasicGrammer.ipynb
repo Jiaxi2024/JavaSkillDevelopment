{
 "cells": [
  {
   "cell_type": "code",
   "execution_count": null,
   "id": "4b9d1095",
   "metadata": {
    "vscode": {
     "languageId": "java"
    }
   },
   "outputs": [],
   "source": [
    "//重点：\n",
    "//1.强制类型转换前要加括号\n",
    "//2.注意+号的用法，有string自动全部转化为string"
   ]
  },
  {
   "cell_type": "code",
   "execution_count": 29,
   "id": "80a72e7e-7eae-4d97-8912-9709318d6c98",
   "metadata": {
    "vscode": {
     "languageId": "java"
    }
   },
   "outputs": [],
   "source": [
    "//3.1 key words and reserved words\n",
    "System.out.println(\"Hello, World!\");\n"
   ]
  },
  {
   "cell_type": "code",
   "execution_count": 30,
   "id": "1e64fada-3a43-421b-b2fc-5740d1f22e10",
   "metadata": {
    "vscode": {
     "languageId": "java"
    }
   },
   "outputs": [],
   "source": [
    "//3.2 \n",
    "// name principle:\n",
    "// 1.only contains number,alpabet,_,$\n",
    "// 2.not start with number\n",
    "// 3.not use key words or reserved words\n",
    "// 4.no contains blank\n",
    "// 5.strict with upper and lower alpabet\n"
   ]
  },
  {
   "cell_type": "code",
   "execution_count": 31,
   "id": "69ab6d8a",
   "metadata": {
    "vscode": {
     "languageId": "java"
    }
   },
   "outputs": [
    {
     "name": "stdout",
     "output_type": "stream",
     "text": [
      "99\n"
     ]
    }
   ],
   "source": [
    "//3.3 变量variable\n"
   ]
  },
  {
   "cell_type": "code",
   "execution_count": 56,
   "id": "4a86b3a4",
   "metadata": {
    "vscode": {
     "languageId": "java"
    }
   },
   "outputs": [
    {
     "name": "stdout",
     "output_type": "stream",
     "text": [
      "140\n",
      "A\n",
      "A\n",
      "33\n",
      "123\n",
      "c3\tc1\n",
      "c3\n",
      "true\n"
     ]
    }
   ],
   "source": [
    "//3.4 data type\n",
    "byte a = 12; //-128~127\n",
    "short b = 100; //-2^15~2^15-1\n",
    "int c = 100;//-2^31~2^31-1 most used\n",
    "long d = 100L;\n",
    "\n",
    "float e =1.5F;\n",
    "double f = 1.5;//most used\n",
    "\n",
    "// 字符型常量值的表示形式有如下几种。\n",
    "// ● 用单引号括起来的单个字符的常量值，如 'a' '9'等，注意：​“''”是错误的，里面不能没有内容，必须有单个字符。这种表示形式最常见。\n",
    "// ● 转义字符'\\n' '\\t'等。\n",
    "// ● 直接使用Unicode值，格式是'\\u××××'，其中××××表示一个16进制的整数。\n",
    "\n",
    "String name = \"happy\";\n",
    "char c1 = 'a';\n",
    "char c2 = '\\n';\n",
    "char c3 = '\\u0041';//unicode\n",
    "char c4 = '\\t';\n",
    "\n",
    "System.out.println(c3+c2+c3); //output a calculate\n",
    "System.out.println(\"\"+c3+c2+c3);  //output a string,because the system automatically turn +(calculate) to +(connect) whem there is a string\n",
    "System.out.println(1 + 2 + \"3\"); // 输出 \"33\"\n",
    "System.out.println(\"1\" + 2 + 3); // 输出 \"123\"\n",
    "System.out.println(\"c3\\tc1\\nc3\");\n",
    "\n",
    "boolean flag = true; //only ture,flase,not null\n",
    "System.out.println(flag);\n",
    "\n"
   ]
  },
  {
   "cell_type": "code",
   "execution_count": 51,
   "id": "65b1f4d0",
   "metadata": {
    "vscode": {
     "languageId": "java"
    }
   },
   "outputs": [
    {
     "name": "stdout",
     "output_type": "stream",
     "text": [
      "97\n",
      "98\n"
     ]
    }
   ],
   "source": [
    "//3.5 data type  conversion\n",
    "//auto type conversion\n",
    "int value = 'a';\n",
    "System.out.println(value);\n",
    "\n",
    "\n",
    "//cast type conversion\n",
    "double num = 98.89;\n",
    "short s = (short)num;\n",
    "System.out.println(s);\n",
    "\n"
   ]
  },
  {
   "cell_type": "code",
   "execution_count": 67,
   "id": "fc70f30e",
   "metadata": {
    "vscode": {
     "languageId": "java"
    }
   },
   "outputs": [
    {
     "name": "stdout",
     "output_type": "stream",
     "text": [
      "3\n"
     ]
    },
    {
     "name": "stdout",
     "output_type": "stream",
     "text": [
      "1\n",
      "* *\n",
      "93\n",
      "*\t*\n",
      "51*\n",
      "*\t*\n",
      "199\n",
      "1\n",
      "0\n",
      "3.0\n"
     ]
    }
   ],
   "source": [
    "//3.6 \n",
    "System.out.println(10/3);//the result is int \n",
    "System.out.println(10%3);\n",
    "\n",
    "System.out.println(\"* *\");\n",
    "System.out.println('*' + '\\t' + '*');\n",
    "System.out.println('*' + \"\\t\" + '*');\n",
    "System.out.println('*' + '\\t' + \"*\");\n",
    "System.out.println('*' + ('\\t' + \"*\"));\n",
    "\n",
    "int g = 100;\n",
    "g += 99;\n",
    "System.out.println(g);\n",
    "g %=3;//类似求余数\n",
    "System.out.println(g);\n",
    "g *=0.1;//没有报错，系统对复合赋值表达式进行了优化处理，自动对等号右边的i ＊ 0.1的结果进行了强转，所以结果是0。\n",
    "//g = g*0.1;\n",
    "System.out.println(g);\n",
    "\n",
    "//3.6.6条件表达式\n",
    "//（条件表达式）？表达式1：表达式2  \n",
    "//如果条件表达式ture，则执行表达式1并返回结果；否则执行表达式2并返回结果\n",
    "int m=3;\n",
    "double n =2.0;\n",
    "System.out.println(m>n?m:n);\n"
   ]
  },
  {
   "cell_type": "code",
   "execution_count": 70,
   "id": "9a5be7c5",
   "metadata": {
    "vscode": {
     "languageId": "java"
    }
   },
   "outputs": [
    {
     "name": "stdout",
     "output_type": "stream",
     "text": [
      "A\n"
     ]
    }
   ],
   "source": [
    "//3.7 example\n",
    "//3.7.5 transfer lowercase alpabet to uppercase alpabet\n",
    "char letter = 'a';\n",
    "char uppercase = (char)(letter-32);\n",
    "System.out.println(uppercase);"
   ]
  }
 ],
 "metadata": {
  "kernelspec": {
   "display_name": "Java",
   "language": "java",
   "name": "java"
  },
  "language_info": {
   "codemirror_mode": "java",
   "file_extension": ".jshell",
   "mimetype": "text/x-java-source",
   "name": "Java",
   "pygments_lexer": "java",
   "version": "21.0.2+13-LTS-58"
  }
 },
 "nbformat": 4,
 "nbformat_minor": 5
}
