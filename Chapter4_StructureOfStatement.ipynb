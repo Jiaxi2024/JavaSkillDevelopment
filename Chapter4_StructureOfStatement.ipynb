{
 "cells": [
  {
   "cell_type": "code",
   "execution_count": 1,
   "metadata": {},
   "outputs": [],
   "source": [
    "//4.1顺序结构"
   ]
  },
  {
   "cell_type": "code",
   "execution_count": 7,
   "metadata": {},
   "outputs": [
    {
     "name": "stdout",
     "output_type": "stream",
     "text": [
      "29\n",
      "C\n"
     ]
    }
   ],
   "source": [
    "//4.2条件分支结构\n",
    "//输入一个年份值，输出该年2月份的总天数。\n",
    "//if\n",
    "int year = 2024;\n",
    "int date = 28;\n",
    "if ( year%4==0){\n",
    "    date++;\n",
    "}\n",
    "System.out.println(date);\n",
    "\n",
    "//if...else if\n",
    "int grade = 77;\n",
    "if(grade>90){\n",
    "    System.out.println(\"A\");\n",
    "}else if (grade>80){\n",
    "    System.out.println(\"B\");\n",
    "}else{\n",
    "    System.out.println(\"C\");\n",
    "}"
   ]
  },
  {
   "cell_type": "code",
   "execution_count": 10,
   "metadata": {},
   "outputs": [
    {
     "name": "stdout",
     "output_type": "stream",
     "text": [
      "hello\n",
      "work\n"
     ]
    }
   ],
   "source": [
    "//4.3分支结构\n",
    "//switch-case\n",
    "int score = 98;//selector type double is not allowed\n",
    "switch (score) {  \n",
    "    case 98:      \n",
    "        System.out.println(\"hello\");\n",
    "     //   break;    // break 语句用来结束当前的 case\n",
    "    case 99:\n",
    "    System.out.println(\"work\");\n",
    "    break;\n",
    "\n",
    "    // default:      // 可选的 default 语句，处理未匹配的情况\n",
    "    //     System.out.println(\"default case\");\n",
    "    //     break;\n",
    "}\n",
    "\n",
    "\n"
   ]
  },
  {
   "cell_type": "code",
   "execution_count": 17,
   "metadata": {},
   "outputs": [
    {
     "name": "stdout",
     "output_type": "stream",
     "text": [
      "while\n",
      "while\n",
      "while\n",
      "dowhile\n",
      "for\n",
      "for\n"
     ]
    }
   ],
   "source": [
    "//4.4循环结构\n",
    "//while\n",
    "//do while\n",
    "//for\n",
    "int i=0;\n",
    "while(i<3){\n",
    "    System.out.println(\"while\");\n",
    "    i++;\n",
    "}\n",
    "\n",
    "do{\n",
    "    System.out.println(\"dowhile\");\n",
    "}while(i<3);\n",
    "\n",
    "//死循环for(;;){}\n",
    "for(int i=1;i<3;i++){\n",
    "    System.out.println(\"for\");\n",
    "}"
   ]
  },
  {
   "cell_type": "code",
   "execution_count": 10,
   "metadata": {},
   "outputs": [
    {
     "name": "stdout",
     "output_type": "stream",
     "text": [
      "153\n",
      "370\n",
      "371\n",
      "407\n"
     ]
    }
   ],
   "source": [
    "//水仙花数(所谓水仙花数，是指一个三位数，其各个位上数字的立方和等于其本身。例如，153=1×1×1+5×5×5+3×3×3，现在要求输出所有的水仙花数。)\n",
    "for(int num=100;num<1000;num++){\n",
    "    int hun = num/100;\n",
    "    int ten = num/10%10;\n",
    "    int one = num%10;\n",
    "    if(num == (Math.pow(hun,3)+Math.pow(ten,3)+Math.pow(one,3))){System.out.println(num);}\n",
    "}"
   ]
  },
  {
   "cell_type": "code",
   "execution_count": 18,
   "metadata": {},
   "outputs": [
    {
     "name": "stdout",
     "output_type": "stream",
     "text": [
      "1\t\n",
      "2\t4\t\n",
      "3\t6\t9\t\n",
      "4\t8\t12\t16\t\n",
      "5\t10\t15\t20\t25\t\n",
      "6\t12\t18\t24\t30\t36\t\n",
      "7\t14\t21\t28\t35\t42\t49\t\n",
      "8\t16\t24\t32\t40\t48\t56\t64\t\n",
      "9\t18\t27\t36\t45\t54\t63\t72\t81\t\n"
     ]
    }
   ],
   "source": [
    "//嵌套循环\n",
    "for(int i = 1;i<10;i++){\n",
    "    for(int j=1;j<=i;j++){\n",
    "        System.out.print(i*j+\"\\t\");\n",
    "    }\n",
    "    System.out.println();\n",
    "}\n",
    "//compare to \n",
    "// for(int i = 1;i<10;i++){\n",
    "//     for(int j=1;j<=i;j++){\n",
    "//         System.out.println(i*j+\"\\t\");\n",
    "//     }\n",
    "    \n",
    "// }"
   ]
  },
  {
   "cell_type": "code",
   "execution_count": 22,
   "metadata": {},
   "outputs": [
    {
     "name": "stdout",
     "output_type": "stream",
     "text": [
      "1\n",
      "2\n",
      "19\n",
      "38\n"
     ]
    }
   ],
   "source": [
    "//求因数\n",
    "int x=38;\n",
    "for ( int i=1;i<100;i++){\n",
    "    if(x%i==0){\n",
    "        System.out.println(i);\n",
    "    }\n",
    "}\n"
   ]
  },
  {
   "cell_type": "code",
   "execution_count": 23,
   "metadata": {},
   "outputs": [],
   "source": [
    "//4.5跳转语句\n",
    "//break\n",
    "//continue继续下一次循环，本次循环剩下的循环体将被跳过\n",
    "//return"
   ]
  }
 ],
 "metadata": {
  "kernelspec": {
   "display_name": "Java",
   "language": "java",
   "name": "java"
  },
  "language_info": {
   "codemirror_mode": "java",
   "file_extension": ".jshell",
   "mimetype": "text/x-java-source",
   "name": "java",
   "pygments_lexer": "java",
   "version": "21.0.2+13-LTS-58"
  }
 },
 "nbformat": 4,
 "nbformat_minor": 2
}
